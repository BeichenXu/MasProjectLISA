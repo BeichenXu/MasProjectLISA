{
 "cells": [
  {
   "cell_type": "code",
   "execution_count": 1,
   "metadata": {},
   "outputs": [],
   "source": [
    "from GAN import Generator, Discriminator\n",
    "import torch\n",
    "import torch.nn as nn\n",
    "import numpy as np\n",
    "import matplotlib.pyplot as plt\n",
    "\n",
    "from Signal_Generator import *\n",
    "from Signal_Analyzer import *"
   ]
  },
  {
   "cell_type": "code",
   "execution_count": 2,
   "metadata": {},
   "outputs": [],
   "source": [
    "dataset = []\n",
    "\n",
    "for i in range(10):\n",
    "    SG = Signal_Generator(num_sources=1, noise_amplitude=1)\n",
    "    signals = SG.generating_signal()\n",
    "    params = SG.printing_parameters()\n",
    "    signal = signals['Signal'].values\n",
    "\n",
    "    signal_tensor = torch.tensor(signal, dtype=torch.float).unsqueeze(0).unsqueeze(0)\n",
    "    params_tensor = torch.tensor(params, dtype=torch.float).unsqueeze(0)\n",
    "\n",
    "    dataset.append((signal_tensor, params_tensor))\n",
    "\n",
    "num_latent_variables = 10\n",
    "z = torch.randn(1, num_latent_variables, 1)"
   ]
  },
  {
   "cell_type": "code",
   "execution_count": 3,
   "metadata": {},
   "outputs": [],
   "source": [
    "generator = Generator(in_channels=1, num_latent_variables=num_latent_variables, length=len(signal), num_parameters=len(params))\n",
    "discriminator = Discriminator(input_channels=1, num_latent_variables=num_latent_variables, length=len(signal), num_parameters=len(params))"
   ]
  },
  {
   "cell_type": "code",
   "execution_count": 4,
   "metadata": {},
   "outputs": [],
   "source": [
    "criterion = nn.BCELoss()\n",
    "\n",
    "learning_rate = 0.0001\n",
    "num_epochs = 10\n",
    "\n",
    "optimizer_G = torch.optim.Adam(generator.parameters(), lr=learning_rate)\n",
    "optimizer_D = torch.optim.Adam(discriminator.parameters(), lr=learning_rate)\n",
    "\n",
    "device = torch.device(\"cuda\" if torch.cuda.is_available() else \"cpu\")"
   ]
  },
  {
   "cell_type": "code",
   "execution_count": 5,
   "metadata": {},
   "outputs": [
    {
     "name": "stdout",
     "output_type": "stream",
     "text": [
      "Epoch [1/10], Loss_D: 1.6543, Loss_G: 0.4006\n",
      "Epoch [2/10], Loss_D: 1.3948, Loss_G: 0.7393\n",
      "Epoch [3/10], Loss_D: 1.3911, Loss_G: 0.6292\n",
      "Epoch [4/10], Loss_D: 1.3862, Loss_G: 0.7081\n",
      "Epoch [5/10], Loss_D: 1.3869, Loss_G: 0.7187\n",
      "Epoch [6/10], Loss_D: 1.3862, Loss_G: 0.6854\n",
      "Epoch [7/10], Loss_D: 1.3861, Loss_G: 0.6923\n",
      "Epoch [8/10], Loss_D: 1.3862, Loss_G: 0.7026\n",
      "Epoch [9/10], Loss_D: 1.3861, Loss_G: 0.6960\n",
      "Epoch [10/10], Loss_D: 1.3860, Loss_G: 0.6959\n"
     ]
    }
   ],
   "source": [
    "for epoch in range(num_epochs):\n",
    "    for i,data in enumerate(dataset):\n",
    "        signal_tensor, params_tensor = data\n",
    "        \n",
    "        # Generate Fake Parameters\n",
    "        fake_params = generator(signal_tensor, z).detach().squeeze().numpy()\n",
    "        fake_params_tensor = torch.tensor(fake_params, dtype=torch.float).unsqueeze(0)\n",
    "        \n",
    "        # Train Discriminator\n",
    "        discriminator.zero_grad()\n",
    "\n",
    "        real_output = discriminator(signal_tensor, params_tensor, z)\n",
    "        fake_output = discriminator(signal_tensor, fake_params_tensor, z)\n",
    "\n",
    "        loss_D = criterion(real_output, torch.ones_like(real_output)) + criterion(fake_output, torch.zeros_like(fake_output))\n",
    "        loss_D.backward()\n",
    "        optimizer_D.step()\n",
    "        \n",
    "        # Train Generator\n",
    "        generator.zero_grad()\n",
    "        fake_output = discriminator(signal_tensor, fake_params_tensor, z)\n",
    "        loss_G = criterion(fake_output, torch.ones_like(fake_output))\n",
    "        loss_G.backward()\n",
    "        optimizer_G.step()\n",
    "        \n",
    "    print(f\"Epoch [{epoch+1}/{num_epochs}], Loss_D: {loss_D.item():.4f}, Loss_G: {loss_G.item():.4f}\")"
   ]
  },
  {
   "cell_type": "code",
   "execution_count": 6,
   "metadata": {},
   "outputs": [
    {
     "name": "stdout",
     "output_type": "stream",
     "text": [
      "[10.43319273366852, 10.259742529573291, 10.959173513768146, 10.676921137759432, 9.809036577895048, 8.581171554357322, 7.613501375017421, 8.98594306841666, 7.832866078212174, 9.240498889825918, 0.30199067229230225, 0.36430767297208155, 0.37286348788763474, 0.27875175740814073, 0.20282325558438544, 0.14605874964494983, 0.3873417106788896, 0.4190080190712868, 0.37610490965111726, 0.1544722450698362, 1.8606030624609833, 0.0635619970403771, 4.52135479767825, 1.1299943002069925, 2.0307257934070457, 2.2823583017062026, 1.383340323003153, 4.319532863326387, 5.147604728342666, 0.6904155822801367]\n",
      "[ 0.10253743 -0.36689728 -0.11562443]\n"
     ]
    }
   ],
   "source": [
    "SG = Signal_Generator(num_sources=1, noise_amplitude=1)\n",
    "signals = SG.generating_signal()\n",
    "params = SG.printing_parameters()\n",
    "signal = signals['Signal'].values\n",
    "\n",
    "print(params)\n",
    "\n",
    "signal_tensor = torch.tensor(signal, dtype=torch.float).unsqueeze(0).unsqueeze(0)\n",
    "params_tensor = torch.tensor(params, dtype=torch.float).unsqueeze(0)\n",
    "\n",
    "generate_params = generator(signal_tensor, z).detach().squeeze().numpy()\n",
    "print(generate_params)"
   ]
  },
  {
   "cell_type": "code",
   "execution_count": 7,
   "metadata": {},
   "outputs": [
    {
     "data": {
      "text/plain": [
       "30"
      ]
     },
     "execution_count": 7,
     "metadata": {},
     "output_type": "execute_result"
    }
   ],
   "source": [
    "len(params)"
   ]
  },
  {
   "cell_type": "code",
   "execution_count": 8,
   "metadata": {},
   "outputs": [
    {
     "data": {
      "text/plain": [
       "3"
      ]
     },
     "execution_count": 8,
     "metadata": {},
     "output_type": "execute_result"
    }
   ],
   "source": [
    "len(generate_params)"
   ]
  }
 ],
 "metadata": {
  "kernelspec": {
   "display_name": "MasLISA",
   "language": "python",
   "name": "python3"
  },
  "language_info": {
   "codemirror_mode": {
    "name": "ipython",
    "version": 3
   },
   "file_extension": ".py",
   "mimetype": "text/x-python",
   "name": "python",
   "nbconvert_exporter": "python",
   "pygments_lexer": "ipython3",
   "version": "3.11.5"
  }
 },
 "nbformat": 4,
 "nbformat_minor": 2
}
