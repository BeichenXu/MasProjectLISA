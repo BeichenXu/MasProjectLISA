{
 "cells": [
  {
   "cell_type": "code",
   "execution_count": 3,
   "metadata": {},
   "outputs": [],
   "source": [
    "import numpy as np\n",
    "import matplotlib.pyplot as plt\n",
    "\n",
    "import torch\n",
    "import torch.nn as nn\n",
    "import torch.nn.functional as F\n",
    "from Signal_Analyzer import  *"
   ]
  },
  {
   "cell_type": "code",
   "execution_count": 4,
   "metadata": {},
   "outputs": [],
   "source": [
    "class UNet1D(nn.Module):\n",
    "    def __init__(self, in_channels=1, out_channels=1):\n",
    "        super(UNet1D, self).__init__()\n",
    "        self.encoder1 = nn.Sequential(nn.Conv1d(in_channels, 16, kernel_size=3, padding=1), nn.ReLU())\n",
    "        self.pool1 = nn.MaxPool1d(2)\n",
    "        self.encoder2 = nn.Sequential(nn.Conv1d(16, 32, kernel_size=3, padding=1), nn.ReLU())\n",
    "        self.pool2 = nn.MaxPool1d(2)\n",
    "        \n",
    "        self.bottleneck = nn.Sequential(nn.Conv1d(32, 64, kernel_size=3, padding=1), nn.ReLU())\n",
    "        \n",
    "        self.upconv2 = nn.ConvTranspose1d(64, 32, kernel_size=2, stride=2)\n",
    "        self.decoder2 = nn.Sequential(nn.Conv1d(64, 32, kernel_size=3, padding=1), nn.ReLU())\n",
    "        self.upconv1 = nn.ConvTranspose1d(32, 16, kernel_size=2, stride=2)\n",
    "        self.decoder1 = nn.Sequential(nn.Conv1d(32, 16, kernel_size=3, padding=1), nn.ReLU())\n",
    "        \n",
    "        self.output_conv = nn.Conv1d(16, out_channels, kernel_size=3, padding=1)\n",
    "\n",
    "    def forward(self, x):\n",
    "        # Encoder\n",
    "        enc1 = self.encoder1(x)\n",
    "        enc1p = self.pool1(enc1)\n",
    "        \n",
    "        enc2 = self.encoder2(enc1p)\n",
    "        enc2p = self.pool2(enc2)\n",
    "        \n",
    "        # Bottleneck\n",
    "        bottleneck = self.bottleneck(enc2p)\n",
    "        \n",
    "        # Decoder\n",
    "        dec2 = self.upconv2(bottleneck)\n",
    "        dec2 = torch.cat((dec2, enc2), dim=1)\n",
    "        dec2 = self.decoder2(dec2)\n",
    "        \n",
    "        dec1 = self.upconv1(dec2)\n",
    "        dec1 = torch.cat((dec1, enc1), dim=1)\n",
    "        dec1 = self.decoder1(dec1)\n",
    "        \n",
    "        # Output\n",
    "        out = self.output_conv(dec1)\n",
    "        return out"
   ]
  },
  {
   "cell_type": "code",
   "execution_count": 5,
   "metadata": {},
   "outputs": [],
   "source": [
    "# Initialize the model\n",
    "model = UNet1D()\n",
    "\n",
    "# Assuming we have an input signal (e.g., random noise)\n",
    "input_signal = torch.randn(1, 1, 128)  # (batch_size, channels, signal_length)\n",
    "\n",
    "# Generate an output signal using the model\n",
    "output_signal = model(input_signal)\n",
    "\n"
   ]
  },
  {
   "cell_type": "code",
   "execution_count": null,
   "metadata": {},
   "outputs": [],
   "source": [
    "# Convert the output to a numpy array and select the first sample and channel for plotting\n",
    "output_signal_np = output_signal.detach().numpy()[0, 0, :]\n",
    "\n",
    "# Plot the generated signal\n",
    "plt.figure(figsize=(10, 4))\n",
    "plt.plot(output_signal_np, label='Generated Signal')\n",
    "plt.title('Generated Signal from UNet1D')\n",
    "plt.xlabel('Sample Index')\n",
    "plt.ylabel('Amplitude')\n",
    "plt.legend()\n",
    "plt.grid(True)\n",
    "plt.show()"
   ]
  },
  {
   "cell_type": "code",
   "execution_count": null,
   "metadata": {},
   "outputs": [],
   "source": []
  }
 ],
 "metadata": {
  "kernelspec": {
   "display_name": "Python 3 (ipykernel)",
   "language": "python",
   "name": "python3"
  },
  "language_info": {
   "codemirror_mode": {
    "name": "ipython",
    "version": 3
   },
   "file_extension": ".py",
   "mimetype": "text/x-python",
   "name": "python",
   "nbconvert_exporter": "python",
   "pygments_lexer": "ipython3",
   "version": "3.11.5"
  }
 },
 "nbformat": 4,
 "nbformat_minor": 2
}
